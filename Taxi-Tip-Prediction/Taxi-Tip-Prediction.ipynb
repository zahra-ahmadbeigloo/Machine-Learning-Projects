{
 "cells": [
  {
   "cell_type": "markdown",
   "id": "0b02b1f6-a9d7-46ca-bd91-712d7d302e84",
   "metadata": {},
   "source": [
    "# Taxi Tip Prediction"
   ]
  },
  {
   "cell_type": "code",
   "execution_count": 3,
   "id": "0de19c90-09d5-46df-9a11-953a07217c45",
   "metadata": {
    "editable": true,
    "slideshow": {
     "slide_type": ""
    },
    "tags": []
   },
   "outputs": [],
   "source": [
    "import numpy as np\n",
    "import pandas as pd\n",
    "import matplotlib.pyplot as plt\n",
    "import seaborn as sns\n",
    "%matplotlib inline\n",
    "from sklearn.model_selection import train_test_split\n",
    "from sklearn.preprocessing import normalize, StandardScaler, MinMaxScaler\n",
    "from sklearn.utils.class_weight import compute_sample_weight\n",
    "from sklearn.metrics import mean_squared_error, r2_score\n",
    "from sklearn.tree import DecisionTreeRegressor\n",
    "\n",
    "import time\n",
    "import warnings\n",
    "import gc, sys\n",
    "warnings.filterwarnings('ignore')"
   ]
  },
  {
   "cell_type": "code",
   "execution_count": 12,
   "id": "ed79c946-65a9-4c19-bb4f-ac242446911e",
   "metadata": {
    "editable": true,
    "slideshow": {
     "slide_type": ""
    },
    "tags": []
   },
   "outputs": [
    {
     "data": {
      "text/html": [
       "<div>\n",
       "<style scoped>\n",
       "    .dataframe tbody tr th:only-of-type {\n",
       "        vertical-align: middle;\n",
       "    }\n",
       "\n",
       "    .dataframe tbody tr th {\n",
       "        vertical-align: top;\n",
       "    }\n",
       "\n",
       "    .dataframe thead th {\n",
       "        text-align: right;\n",
       "    }\n",
       "</style>\n",
       "<table border=\"1\" class=\"dataframe\">\n",
       "  <thead>\n",
       "    <tr style=\"text-align: right;\">\n",
       "      <th></th>\n",
       "      <th>VendorID</th>\n",
       "      <th>passenger_count</th>\n",
       "      <th>trip_distance</th>\n",
       "      <th>RatecodeID</th>\n",
       "      <th>store_and_fwd_flag</th>\n",
       "      <th>PULocationID</th>\n",
       "      <th>DOLocationID</th>\n",
       "      <th>payment_type</th>\n",
       "      <th>fare_amount</th>\n",
       "      <th>mta_tax</th>\n",
       "      <th>tolls_amount</th>\n",
       "      <th>improvement_surcharge</th>\n",
       "      <th>tip_amount</th>\n",
       "    </tr>\n",
       "  </thead>\n",
       "  <tbody>\n",
       "    <tr>\n",
       "      <th>0</th>\n",
       "      <td>2</td>\n",
       "      <td>1</td>\n",
       "      <td>17.63</td>\n",
       "      <td>2</td>\n",
       "      <td>1</td>\n",
       "      <td>132</td>\n",
       "      <td>164</td>\n",
       "      <td>1</td>\n",
       "      <td>70.0</td>\n",
       "      <td>0.5</td>\n",
       "      <td>6.94</td>\n",
       "      <td>1</td>\n",
       "      <td>16.54</td>\n",
       "    </tr>\n",
       "    <tr>\n",
       "      <th>1</th>\n",
       "      <td>2</td>\n",
       "      <td>1</td>\n",
       "      <td>19.52</td>\n",
       "      <td>2</td>\n",
       "      <td>1</td>\n",
       "      <td>132</td>\n",
       "      <td>236</td>\n",
       "      <td>1</td>\n",
       "      <td>70.0</td>\n",
       "      <td>0.5</td>\n",
       "      <td>6.94</td>\n",
       "      <td>1</td>\n",
       "      <td>16.19</td>\n",
       "    </tr>\n",
       "    <tr>\n",
       "      <th>2</th>\n",
       "      <td>2</td>\n",
       "      <td>1</td>\n",
       "      <td>17.81</td>\n",
       "      <td>2</td>\n",
       "      <td>1</td>\n",
       "      <td>132</td>\n",
       "      <td>48</td>\n",
       "      <td>1</td>\n",
       "      <td>70.0</td>\n",
       "      <td>0.5</td>\n",
       "      <td>6.94</td>\n",
       "      <td>1</td>\n",
       "      <td>12.00</td>\n",
       "    </tr>\n",
       "    <tr>\n",
       "      <th>3</th>\n",
       "      <td>2</td>\n",
       "      <td>2</td>\n",
       "      <td>19.30</td>\n",
       "      <td>2</td>\n",
       "      <td>1</td>\n",
       "      <td>132</td>\n",
       "      <td>148</td>\n",
       "      <td>1</td>\n",
       "      <td>70.0</td>\n",
       "      <td>0.5</td>\n",
       "      <td>0.00</td>\n",
       "      <td>1</td>\n",
       "      <td>5.00</td>\n",
       "    </tr>\n",
       "    <tr>\n",
       "      <th>4</th>\n",
       "      <td>2</td>\n",
       "      <td>1</td>\n",
       "      <td>18.75</td>\n",
       "      <td>2</td>\n",
       "      <td>1</td>\n",
       "      <td>132</td>\n",
       "      <td>234</td>\n",
       "      <td>1</td>\n",
       "      <td>70.0</td>\n",
       "      <td>0.5</td>\n",
       "      <td>6.94</td>\n",
       "      <td>1</td>\n",
       "      <td>10.00</td>\n",
       "    </tr>\n",
       "  </tbody>\n",
       "</table>\n",
       "</div>"
      ],
      "text/plain": [
       "   VendorID  passenger_count  trip_distance  RatecodeID  store_and_fwd_flag  \\\n",
       "0         2                1          17.63           2                   1   \n",
       "1         2                1          19.52           2                   1   \n",
       "2         2                1          17.81           2                   1   \n",
       "3         2                2          19.30           2                   1   \n",
       "4         2                1          18.75           2                   1   \n",
       "\n",
       "   PULocationID  DOLocationID  payment_type  fare_amount  mta_tax  \\\n",
       "0           132           164             1         70.0      0.5   \n",
       "1           132           236             1         70.0      0.5   \n",
       "2           132            48             1         70.0      0.5   \n",
       "3           132           148             1         70.0      0.5   \n",
       "4           132           234             1         70.0      0.5   \n",
       "\n",
       "   tolls_amount  improvement_surcharge  tip_amount  \n",
       "0          6.94                      1       16.54  \n",
       "1          6.94                      1       16.19  \n",
       "2          6.94                      1       12.00  \n",
       "3          0.00                      1        5.00  \n",
       "4          6.94                      1       10.00  "
      ]
     },
     "execution_count": 12,
     "metadata": {},
     "output_type": "execute_result"
    }
   ],
   "source": [
    "raw_data = pd.read_csv('https://cf-courses-data.s3.us.cloud-object-storage.appdomain.cloud/pu9kbeSaAtRZ7RxdJKX9_A/yellow-tripdata.csv')\n",
    "raw_data.head(5)"
   ]
  },
  {
   "cell_type": "code",
   "execution_count": 15,
   "id": "c85f864d-6f37-4183-afa9-3744ae40ffce",
   "metadata": {},
   "outputs": [
    {
     "data": {
      "text/plain": [
       "<Axes: >"
      ]
     },
     "execution_count": 15,
     "metadata": {},
     "output_type": "execute_result"
    },
    {
     "data": {
      "image/png": "[encoded data removed]",
      "text/plain": [
       "<Figure size 1000x600 with 1 Axes>"
      ]
     },
     "metadata": {},
     "output_type": "display_data"
    }
   ],
   "source": [
    "correlation_values = raw_data.corr()['tip_amount'].drop('tip_amount')\n",
    "correlation_values.plot(kind='barh', figsize=(10, 6))"
   ]
  },
  {
   "cell_type": "code",
   "execution_count": 26,
   "id": "b32d7101-f7fb-43b5-b483-0d29ead1a05e",
   "metadata": {
    "editable": true,
    "slideshow": {
     "slide_type": ""
    },
    "tags": []
   },
   "outputs": [],
   "source": [
    "y = raw_data[['tip_amount']].values.astype('float32')\n",
    "proc_data = raw_data.drop(['tip_amount'], axis=1)\n",
    "X = proc_data.values\n",
    "X = normalize(X, axis=1, norm='l1', copy=False)"
   ]
  },
  {
   "cell_type": "code",
   "execution_count": 30,
   "id": "0c99b7f2-a350-4f8e-85dc-c6bbb3154dbd",
   "metadata": {
    "editable": true,
    "slideshow": {
     "slide_type": ""
    },
    "tags": []
   },
   "outputs": [
    {
     "data": {
      "image/png": "[encoded data removed]",
      "text/plain": [
       "<Figure size 640x480 with 1 Axes>"
      ]
     },
     "metadata": {},
     "output_type": "display_data"
    },
    {
     "name": "stdout",
     "output_type": "stream",
     "text": [
      "Minimum amount value is  0.01\n",
      "Maximum amount value is  98.0\n",
      "90% of the trips have a tip amount less or equal than  18.47\n"
     ]
    }
   ],
   "source": [
    "plt.hist(raw_data['tip_amount'], 16, histtype='bar', facecolor='g')\n",
    "plt.show()\n",
    "\n",
    "print(\"Minimum amount value is \", min(raw_data['tip_amount']))\n",
    "print(\"Maximum amount value is \", max(raw_data['tip_amount']))\n",
    "print(\"90% of the trips have a tip amount less or equal than \",raw_data['tip_amount'].quantile(0.9))"
   ]
  },
  {
   "cell_type": "code",
   "execution_count": 36,
   "id": "8c2adcf9-ed6b-4acf-8ccd-6aab25128979",
   "metadata": {},
   "outputs": [],
   "source": [
    "X_train, X_test, y_train, y_test = train_test_split(X, y, test_size=0.3, random_state=42)"
   ]
  },
  {
   "cell_type": "code",
   "execution_count": 38,
   "id": "35bee291-dd10-4824-a40f-05c4fa74c6bb",
   "metadata": {
    "editable": true,
    "slideshow": {
     "slide_type": ""
    },
    "tags": []
   },
   "outputs": [
    {
     "name": "stdout",
     "output_type": "stream",
     "text": [
      "0.5295743942260742\n",
      "24.554687653314353 - 0.027897316738725086\n"
     ]
    }
   ],
   "source": [
    "dt = DecisionTreeRegressor(criterion = 'squared_error', max_depth=8, random_state=35)\n",
    "\n",
    "t0 = time.time()\n",
    "dt.fit(X_train, y_train)\n",
    "time = time.time()-t0\n",
    "print(time)\n",
    "\n",
    "yhat = dt.predict(X_test)\n",
    "mse = mean_squared_error(y_test, yhat)\n",
    "r2 = r2_score(y_test, yhat)\n",
    "print(mse, r2, sep=\" - \")"
   ]
  },
  {
   "cell_type": "code",
   "execution_count": 41,
   "id": "06d385c2-af8b-42e6-9991-0ce49f4c3f37",
   "metadata": {
    "editable": true,
    "slideshow": {
     "slide_type": ""
    },
    "tags": []
   },
   "outputs": [
    {
     "name": "stdout",
     "output_type": "stream",
     "text": [
      "26.458885658669573 - -0.04748853286367116\n"
     ]
    }
   ],
   "source": [
    "dt = DecisionTreeRegressor(criterion = 'squared_error', max_depth=12, random_state=35)\n",
    "dt.fit(X_train, y_train)\n",
    "\n",
    "\n",
    "yhat = dt.predict(X_test)\n",
    "mse = mean_squared_error(y_test, yhat)\n",
    "r2 = r2_score(y_test, yhat)\n",
    "print(mse, r2, sep=\" - \")"
   ]
  },
  {
   "cell_type": "code",
   "execution_count": 66,
   "id": "f671df3e-5cd5-4cd7-9d00-39c1c1031e71",
   "metadata": {},
   "outputs": [
    {
     "name": "stdout",
     "output_type": "stream",
     "text": [
      "24.412224294948366 - 0.033537340138301786\n"
     ]
    }
   ],
   "source": [
    "dt = DecisionTreeRegressor(criterion = 'squared_error', max_depth=4, random_state=35)\n",
    "dt.fit(X_train, y_train)\n",
    "\n",
    "\n",
    "yhat = dt.predict(X_test)\n",
    "mse = mean_squared_error(y_test, yhat)\n",
    "r2 = r2_score(y_test, yhat)\n",
    "print(mse, r2, sep=\" - \")"
   ]
  },
  {
   "cell_type": "code",
   "execution_count": 44,
   "id": "352ec030-84fb-4b3a-b47c-5b028d819625",
   "metadata": {},
   "outputs": [
    {
     "data": {
      "text/plain": [
       "mta_tax                 -0.054488\n",
       "PULocationID            -0.023086\n",
       "improvement_surcharge   -0.000727\n",
       "store_and_fwd_flag       0.000320\n",
       "passenger_count          0.015081\n",
       "DOLocationID             0.024348\n",
       "RatecodeID               0.094075\n",
       "trip_distance            0.101819\n",
       "tolls_amount             0.116172\n",
       "fare_amount              0.200638\n",
       "tip_amount               1.000000\n",
       "VendorID                      NaN\n",
       "payment_type                  NaN\n",
       "Name: tip_amount, dtype: float64"
      ]
     },
     "execution_count": 44,
     "metadata": {},
     "output_type": "execute_result"
    }
   ],
   "source": [
    "correlation_values = raw_data.corr()['tip_amount']\n",
    "correlation_values.sort_values()"
   ]
  },
  {
   "cell_type": "code",
   "execution_count": 51,
   "id": "03be9700-ef0b-4c6e-b993-be6a3254032b",
   "metadata": {},
   "outputs": [
    {
     "name": "stdout",
     "output_type": "stream",
     "text": [
      "0.4824283682665152 - 0.9809010027781829\n"
     ]
    }
   ],
   "source": [
    "proc_data = raw_data.drop(['VendorID', 'payment_type', 'store_and_fwd_flag', 'improvement_surcharge'], axis=1)\n",
    "X1 = proc_data.values\n",
    "X1 = normalize(X1, axis=1, norm='l1', copy=False)\n",
    "X1_train, X1_test, y_train, y_test = train_test_split(X1, y, test_size=0.3, random_state=42)\n",
    "\n",
    "dt1 = DecisionTreeRegressor(criterion = 'squared_error', max_depth=8, random_state=35)\n",
    "dt1.fit(X1_train, y_train)\n",
    "\n",
    "yhat1 = dt1.predict(X1_test)\n",
    "mse = mean_squared_error(y_test, yhat1)\n",
    "r2 = r2_score(y_test, yhat1)\n",
    "print(mse, r2, sep=\" - \")"
   ]
  },
  {
   "cell_type": "code",
   "execution_count": 61,
   "id": "394f2e2f-7c7f-4904-9b5a-56b76238d4bb",
   "metadata": {},
   "outputs": [
    {
     "name": "stdout",
     "output_type": "stream",
     "text": [
      "0.15042062570383127 - 0.994044954025518\n"
     ]
    }
   ],
   "source": [
    "proc_data = raw_data.drop(['VendorID', 'payment_type', 'store_and_fwd_flag', 'improvement_surcharge'], axis=1)\n",
    "X1 = proc_data.values\n",
    "X1 = normalize(X1, axis=1, norm='l1', copy=False)\n",
    "X1_train, X1_test, y_train, y_test = train_test_split(X1, y, test_size=0.3, random_state=42)\n",
    "\n",
    "dt1 = DecisionTreeRegressor(criterion = 'squared_error', max_depth=14, random_state=35)\n",
    "dt1.fit(X1_train, y_train)\n",
    "\n",
    "yhat1 = dt1.predict(X1_test)\n",
    "mse = mean_squared_error(y_test, yhat1)\n",
    "r2 = r2_score(y_test, yhat1)\n",
    "print(mse, r2, sep=\" - \")"
   ]
  },
  {
   "cell_type": "code",
   "execution_count": null,
   "id": "9818f7d8-04fb-4840-9c46-ad92c7815e2b",
   "metadata": {},
   "outputs": [],
   "source": []
  }
 ],
 "metadata": {
  "kernelspec": {
   "display_name": "Python 3 (ipykernel)",
   "language": "python",
   "name": "python3"
  },
  "language_info": {
   "codemirror_mode": {
    "name": "ipython",
    "version": 3
   },
   "file_extension": ".py",
   "mimetype": "text/x-python",
   "name": "python",
   "nbconvert_exporter": "python",
   "pygments_lexer": "ipython3",
   "version": "3.12.4"
  }
 },
 "nbformat": 4,
 "nbformat_minor": 5
}
